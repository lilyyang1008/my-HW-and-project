{
 "cells": [
  {
   "cell_type": "markdown",
   "id": "a52b471a",
   "metadata": {},
   "source": [
    "#tensorflow=2.6 cuda=11.2 RTX4060"
   ]
  },
  {
   "cell_type": "code",
   "execution_count": 1,
   "id": "5bf05d24",
   "metadata": {},
   "outputs": [],
   "source": [
    "import pandas as pd\n",
    "import re\n",
    "import os\n",
    "import jieba\n",
    "import numpy as np\n",
    "import matplotlib.pyplot as plt\n",
    "from tensorflow.keras.preprocessing.text import Tokenizer\n",
    "from tensorflow.keras.preprocessing.sequence import pad_sequences\n",
    "from sklearn.preprocessing import LabelEncoder\n",
    "from sklearn.model_selection import train_test_split\n",
    "from tensorflow.keras.utils import to_categorical\n",
    "from tensorflow.keras.models import Sequential\n",
    "from tensorflow.keras.layers import Embedding,SimpleRNN, Dense, SpatialDropout1D, Bidirectional, Dropout\n",
    "from tensorflow.keras.callbacks import EarlyStopping"
   ]
  },
  {
   "cell_type": "code",
   "execution_count": 2,
   "id": "6dcbce7a",
   "metadata": {},
   "outputs": [
    {
     "data": {
      "text/html": [
       "<div>\n",
       "<style scoped>\n",
       "    .dataframe tbody tr th:only-of-type {\n",
       "        vertical-align: middle;\n",
       "    }\n",
       "\n",
       "    .dataframe tbody tr th {\n",
       "        vertical-align: top;\n",
       "    }\n",
       "\n",
       "    .dataframe thead th {\n",
       "        text-align: right;\n",
       "    }\n",
       "</style>\n",
       "<table border=\"1\" class=\"dataframe\">\n",
       "  <thead>\n",
       "    <tr style=\"text-align: right;\">\n",
       "      <th></th>\n",
       "      <th>Unnamed: 0</th>\n",
       "      <th>title</th>\n",
       "      <th>title_id</th>\n",
       "      <th>time</th>\n",
       "      <th>content</th>\n",
       "      <th>push_id</th>\n",
       "      <th>push_content</th>\n",
       "      <th>push_time</th>\n",
       "    </tr>\n",
       "  </thead>\n",
       "  <tbody>\n",
       "    <tr>\n",
       "      <th>0</th>\n",
       "      <td>0</td>\n",
       "      <td>[新聞] 魏哲家霸氣喊「台積電無敵手」　擴廠連</td>\n",
       "      <td>keel90135 (尼可)</td>\n",
       "      <td>Tue Jun  4 15:55:30 2024</td>\n",
       "      <td>原文標題：魏哲家霸氣喊「台積電無敵手」　擴廠連說3次台灣原文連結：https://finan...</td>\n",
       "      <td>xiaoyao</td>\n",
       "      <td>已知利多 我阿嬤都知道</td>\n",
       "      <td>06/04 15:57</td>\n",
       "    </tr>\n",
       "    <tr>\n",
       "      <th>1</th>\n",
       "      <td>1</td>\n",
       "      <td>[新聞] 魏哲家霸氣喊「台積電無敵手」　擴廠連</td>\n",
       "      <td>keel90135 (尼可)</td>\n",
       "      <td>Tue Jun  4 15:55:30 2024</td>\n",
       "      <td>原文標題：魏哲家霸氣喊「台積電無敵手」　擴廠連說3次台灣原文連結：https://finan...</td>\n",
       "      <td>strlen</td>\n",
       "      <td>尼這樣 美國老大哥又不高興惹</td>\n",
       "      <td>06/04 15:58</td>\n",
       "    </tr>\n",
       "    <tr>\n",
       "      <th>2</th>\n",
       "      <td>2</td>\n",
       "      <td>[新聞] 魏哲家霸氣喊「台積電無敵手」　擴廠連</td>\n",
       "      <td>keel90135 (尼可)</td>\n",
       "      <td>Tue Jun  4 15:55:30 2024</td>\n",
       "      <td>原文標題：魏哲家霸氣喊「台積電無敵手」　擴廠連說3次台灣原文連結：https://finan...</td>\n",
       "      <td>chinaeatshit</td>\n",
       "      <td>不說台灣明天就跌停了 說台灣又是預料中 簡單的說</td>\n",
       "      <td>06/04 15:58</td>\n",
       "    </tr>\n",
       "    <tr>\n",
       "      <th>3</th>\n",
       "      <td>3</td>\n",
       "      <td>[新聞] 魏哲家霸氣喊「台積電無敵手」　擴廠連</td>\n",
       "      <td>keel90135 (尼可)</td>\n",
       "      <td>Tue Jun  4 15:55:30 2024</td>\n",
       "      <td>原文標題：魏哲家霸氣喊「台積電無敵手」　擴廠連說3次台灣原文連結：https://finan...</td>\n",
       "      <td>chinaeatshit</td>\n",
       "      <td>就是沒有利多</td>\n",
       "      <td>06/04 15:58</td>\n",
       "    </tr>\n",
       "    <tr>\n",
       "      <th>4</th>\n",
       "      <td>4</td>\n",
       "      <td>[新聞] 魏哲家霸氣喊「台積電無敵手」　擴廠連</td>\n",
       "      <td>keel90135 (尼可)</td>\n",
       "      <td>Tue Jun  4 15:55:30 2024</td>\n",
       "      <td>原文標題：魏哲家霸氣喊「台積電無敵手」　擴廠連說3次台灣原文連結：https://finan...</td>\n",
       "      <td>ccdrv</td>\n",
       "      <td>已反應 全世界都知道</td>\n",
       "      <td>06/04 15:58</td>\n",
       "    </tr>\n",
       "  </tbody>\n",
       "</table>\n",
       "</div>"
      ],
      "text/plain": [
       "   Unnamed: 0                    title        title_id  \\\n",
       "0           0  [新聞] 魏哲家霸氣喊「台積電無敵手」　擴廠連  keel90135 (尼可)   \n",
       "1           1  [新聞] 魏哲家霸氣喊「台積電無敵手」　擴廠連  keel90135 (尼可)   \n",
       "2           2  [新聞] 魏哲家霸氣喊「台積電無敵手」　擴廠連  keel90135 (尼可)   \n",
       "3           3  [新聞] 魏哲家霸氣喊「台積電無敵手」　擴廠連  keel90135 (尼可)   \n",
       "4           4  [新聞] 魏哲家霸氣喊「台積電無敵手」　擴廠連  keel90135 (尼可)   \n",
       "\n",
       "                       time  \\\n",
       "0  Tue Jun  4 15:55:30 2024   \n",
       "1  Tue Jun  4 15:55:30 2024   \n",
       "2  Tue Jun  4 15:55:30 2024   \n",
       "3  Tue Jun  4 15:55:30 2024   \n",
       "4  Tue Jun  4 15:55:30 2024   \n",
       "\n",
       "                                             content       push_id  \\\n",
       "0  原文標題：魏哲家霸氣喊「台積電無敵手」　擴廠連說3次台灣原文連結：https://finan...  xiaoyao        \n",
       "1  原文標題：魏哲家霸氣喊「台積電無敵手」　擴廠連說3次台灣原文連結：https://finan...  strlen         \n",
       "2  原文標題：魏哲家霸氣喊「台積電無敵手」　擴廠連說3次台灣原文連結：https://finan...  chinaeatshit   \n",
       "3  原文標題：魏哲家霸氣喊「台積電無敵手」　擴廠連說3次台灣原文連結：https://finan...  chinaeatshit   \n",
       "4  原文標題：魏哲家霸氣喊「台積電無敵手」　擴廠連說3次台灣原文連結：https://finan...  ccdrv          \n",
       "\n",
       "               push_content     push_time  \n",
       "0               已知利多 我阿嬤都知道   06/04 15:57  \n",
       "1            尼這樣 美國老大哥又不高興惹   06/04 15:58  \n",
       "2  不說台灣明天就跌停了 說台灣又是預料中 簡單的說   06/04 15:58  \n",
       "3                    就是沒有利多   06/04 15:58  \n",
       "4                已反應 全世界都知道   06/04 15:58  "
      ]
     },
     "execution_count": 2,
     "metadata": {},
     "output_type": "execute_result"
    }
   ],
   "source": [
    "file_path =\"D:\\\\big_data_R\\\\ptt-stock20240604.csv\"\n",
    "df = pd.read_csv(file_path)\n",
    "df.head()"
   ]
  },
  {
   "cell_type": "code",
   "execution_count": 3,
   "id": "4d31dae5",
   "metadata": {},
   "outputs": [],
   "source": [
    "def remove_number(text):\n",
    "    return re.sub(r'[0-9.]', '', text)\n",
    "df['push_content']=df['push_content'].apply(remove_number)"
   ]
  },
  {
   "cell_type": "code",
   "execution_count": 4,
   "id": "69839f7a",
   "metadata": {},
   "outputs": [],
   "source": [
    "#remove url\n",
    "webs=[]\n",
    "for i in df['push_content']:\n",
    "    website=re.findall(r\"http[s]?://[^\\s]+\",i)\n",
    "    if len(website)>0:\n",
    "        webs.append(website)\n",
    "        \n",
    "for j in webs:\n",
    "    df['push_content']=df['push_content'].replace(j,\"\")"
   ]
  },
  {
   "cell_type": "code",
   "execution_count": 5,
   "id": "f54fc47c",
   "metadata": {},
   "outputs": [
    {
     "name": "stdout",
     "output_type": "stream",
     "text": [
      "Unnamed: 0      0\n",
      "title           0\n",
      "title_id        0\n",
      "time            0\n",
      "content         0\n",
      "push_id         0\n",
      "push_content    0\n",
      "push_time       0\n",
      "dtype: int64\n"
     ]
    }
   ],
   "source": [
    "df=df.dropna(axis=0,how='any',thresh=None,subset=None,inplace=False)\n",
    "print(df.isnull().sum())"
   ]
  },
  {
   "cell_type": "code",
   "execution_count": 6,
   "id": "053912c2",
   "metadata": {},
   "outputs": [],
   "source": [
    "positive_words = ['賺爛','利多','月增','年增','穩穩','穩','厲害','推','降息','轉虧為盈','減少成本','成本減少','跳空','多賺','發大財','有前景',\n",
    "                  '盈利','利好','強勁','繁榮','讚','無敵','霸氣','噴','加碼','猛','順差','買超','牛市','潛力股','創新高','GG','台積','贏','發了',\n",
    "                  '強勢','熱點','大漲','增量','看漲','超額收益','穩賺','高成長','推','降息','漲','ai','amd','nvidia','AI',\"AMD\",'NVIDIA']\n",
    "\n",
    "middle_words = ['投資','收益','獲利','份額','營收','市場','業績','需求','進步','效率','生產','財務','股息','銷售','業績','預期',\n",
    "                '回報','風險','收益率','成長','回報','利潤','市值','經濟','消息','預期','利']\n",
    "\n",
    "positive_degree=['增加','提升','更多','上升','飆升','提高','改善','強勁','增長','擴展','看好','好','超額','無限']\n",
    "\n",
    "negative_degree=['減少','下降','放緩','面臨','低迷','不明','停滯','不佳','衰退','下滑','跌','壞','低','不如','沒有']\n",
    "\n",
    "negative_words = ['韭菜','缺電','升息','出貨','跌停','gg','月減','年減','破產','高失業','高通貨膨脹','雷','崩潰','崩盤','利多出盡','空頭',\n",
    "                  '跌破','中國','跌到','拉回','停損','賺不到','不會賺','跌爛','大跌','散戶','崩','暴跌','跌幅','套','殺','悲','穩死',\n",
    "                  '跳水','賣超','倒','哭','完蛋','回檔','衰','賠','虧損','下挫','貶值','裁員','魯蛇','破產','重組','減產','爛死', \n",
    "                  '經濟衰退','債務','虧本','虧空','失敗','損失','赤字','退市','笑死','違約','緊縮','利空','qq','慘','折損','沒賺到','賣',\n",
    "                  '萎縮','撤資','震盪','惡化','失敗','困難','賣壓','下去','xd','制裁','沒有利多','怕','QQ','別買','XD','臭','隱憂','小心']"
   ]
  },
  {
   "cell_type": "code",
   "execution_count": 7,
   "id": "b4329c7c",
   "metadata": {},
   "outputs": [],
   "source": [
    "def classify_sentence(sentence):\n",
    "    # 尋找負面形容詞和中立詞語同時出現\n",
    "    if any(neg_word in sentence for neg_word in negative_degree):\n",
    "        if any(mid_word in sentence for mid_word in middle_words):\n",
    "            return 'negative'\n",
    "    \n",
    "    # 尋找負面詞語\n",
    "    if any(word in sentence for word in negative_words):\n",
    "        return 'negative'\n",
    "    \n",
    "    # 尋找正面詞語\n",
    "    if any(word in sentence for word in positive_words):\n",
    "        return 'positive'\n",
    "    \n",
    "    # 尋找正面形容詞和中立詞語同時出現\n",
    "    if any(pos_word in sentence for pos_word in positive_degree):\n",
    "        if any(mid_word in sentence for mid_word in middle_words):\n",
    "            return 'positive'\n",
    "    \n",
    "    \n",
    "    return None  # If no match"
   ]
  },
  {
   "cell_type": "code",
   "execution_count": 8,
   "id": "b05415bf",
   "metadata": {},
   "outputs": [
    {
     "name": "stdout",
     "output_type": "stream",
     "text": [
      "回文數目（全部）：4124\n",
      "回文數目（正面）：1955\n",
      "回文數目（負面）：2169\n"
     ]
    }
   ],
   "source": [
    "# 應用情感標籤函數並生成sentiment列\n",
    "df['sentiment'] = df['push_content'].apply(classify_sentence)\n",
    "# 只保留正向和負向的標籤\n",
    "df = df[df['sentiment'].notnull()]\n",
    "print('回文數目（全部）：%d' % df.shape[0])\n",
    "print('回文數目（正面）：%d' % df[df.sentiment=='positive'].shape[0])\n",
    "print('回文數目（負面）：%d' % df[df.sentiment=='negative'].shape[0])"
   ]
  },
  {
   "cell_type": "code",
   "execution_count": 9,
   "id": "12880454",
   "metadata": {},
   "outputs": [
    {
     "name": "stderr",
     "output_type": "stream",
     "text": [
      "Building prefix dict from the default dictionary ...\n",
      "Loading model from cache C:\\Users\\user\\AppData\\Local\\Temp\\jieba.cache\n",
      "Loading model cost 0.832 seconds.\n",
      "Prefix dict has been built successfully.\n"
     ]
    }
   ],
   "source": [
    "stop_words=[]\n",
    "with open(\"C:\\\\Users\\\\user\\\\Downloads\\\\cn_stopwords_1.txt\", 'r', encoding='utf8') as f:\n",
    "    stop_words = f.read().split('\\n') \n",
    "stop_words.append('\\n')\n",
    "def remove_stopwords(text):\n",
    "    words = jieba.lcut(text)\n",
    "    return ' '.join([word for word in words if word not in stop_words])\n",
    "df['content_cut']=df['push_content'].apply(remove_stopwords)"
   ]
  },
  {
   "cell_type": "code",
   "execution_count": 10,
   "id": "d2e1236d",
   "metadata": {},
   "outputs": [
    {
     "name": "stdout",
     "output_type": "stream",
     "text": [
      "Found 6871 unique tokens.\n"
     ]
    }
   ],
   "source": [
    "# 文本向量化\n",
    "tokenizer = Tokenizer(num_words=5000)\n",
    "tokenizer.fit_on_texts(df['content_cut'])\n",
    "sequences = tokenizer.texts_to_sequences(df['content_cut'])\n",
    "word_index = tokenizer.word_index\n",
    "print('Found %s unique tokens.' % len(word_index))\n",
    "max_sequence_length = 50\n",
    "data = pad_sequences(sequences, maxlen=max_sequence_length)"
   ]
  },
  {
   "cell_type": "code",
   "execution_count": 11,
   "id": "28ad1214",
   "metadata": {},
   "outputs": [],
   "source": [
    "# 將標籤轉換為數字格式\n",
    "label_encoder = LabelEncoder()\n",
    "labels = label_encoder.fit_transform(df['sentiment'])\n",
    "labels = to_categorical(np.asarray(labels))\n",
    "# 分割數據集為訓練集和測試集\n",
    "x_train, x_test, y_train, y_test = train_test_split(data, labels, test_size=0.2, random_state=42,shuffle=True)"
   ]
  },
  {
   "cell_type": "code",
   "execution_count": 12,
   "id": "f06c7928",
   "metadata": {},
   "outputs": [
    {
     "name": "stdout",
     "output_type": "stream",
     "text": [
      "Model: \"sequential\"\n",
      "_________________________________________________________________\n",
      "Layer (type)                 Output Shape              Param #   \n",
      "=================================================================\n",
      "embedding (Embedding)        (None, 50, 100)           687200    \n",
      "_________________________________________________________________\n",
      "bidirectional (Bidirectional (None, 256)               58624     \n",
      "_________________________________________________________________\n",
      "dense (Dense)                (None, 64)                16448     \n",
      "_________________________________________________________________\n",
      "dropout (Dropout)            (None, 64)                0         \n",
      "_________________________________________________________________\n",
      "dense_1 (Dense)              (None, 2)                 130       \n",
      "=================================================================\n",
      "Total params: 762,402\n",
      "Trainable params: 762,402\n",
      "Non-trainable params: 0\n",
      "_________________________________________________________________\n",
      "None\n"
     ]
    }
   ],
   "source": [
    "model = Sequential()\n",
    "model.add(Embedding(input_dim=len(word_index) + 1, output_dim=100, input_length=max_sequence_length))\n",
    "model.add(Bidirectional(SimpleRNN(128, dropout=0.1,recurrent_dropout=0.1)))\n",
    "model.add(Dense(64, activation='relu'))\n",
    "model.add(Dropout(0.3))\n",
    "model.add(Dense(len(np.unique(labels)), activation='softmax'))\n",
    "print(model.summary())\n",
    "model.compile(loss='categorical_crossentropy', optimizer='adam', metrics=['accuracy'])"
   ]
  },
  {
   "cell_type": "code",
   "execution_count": 13,
   "id": "4ad2e9b5",
   "metadata": {},
   "outputs": [
    {
     "name": "stdout",
     "output_type": "stream",
     "text": [
      "Epoch 1/15\n",
      "13/13 - 8s - loss: 0.7059 - accuracy: 0.5259 - val_loss: 0.6854 - val_accuracy: 0.5891\n",
      "Epoch 2/15\n",
      "13/13 - 4s - loss: 0.6912 - accuracy: 0.5344 - val_loss: 0.6812 - val_accuracy: 0.5248\n",
      "Epoch 3/15\n",
      "13/13 - 4s - loss: 0.6707 - accuracy: 0.5753 - val_loss: 0.6751 - val_accuracy: 0.5430\n",
      "Epoch 4/15\n",
      "13/13 - 4s - loss: 0.5921 - accuracy: 0.6881 - val_loss: 0.5212 - val_accuracy: 0.7430\n",
      "Epoch 5/15\n",
      "13/13 - 4s - loss: 0.3758 - accuracy: 0.8466 - val_loss: 0.3032 - val_accuracy: 0.8788\n",
      "Epoch 6/15\n",
      "13/13 - 4s - loss: 0.1489 - accuracy: 0.9506 - val_loss: 0.3165 - val_accuracy: 0.8788\n",
      "Epoch 7/15\n",
      "13/13 - 4s - loss: 0.0799 - accuracy: 0.9727 - val_loss: 0.3872 - val_accuracy: 0.8667\n",
      "Epoch 8/15\n",
      "13/13 - 4s - loss: 0.0560 - accuracy: 0.9803 - val_loss: 0.4163 - val_accuracy: 0.8703\n"
     ]
    }
   ],
   "source": [
    "# 使用EarlyStopping回調來防止過擬合\n",
    "early_stopping = EarlyStopping(monitor='val_loss', patience=3, restore_best_weights=True)\n",
    "# 訓練模型\n",
    "epochs = 15  # 增加訓練次數\n",
    "batch_size = 256\n",
    "\n",
    "history = model.fit(x_train, y_train, epochs=epochs, batch_size=batch_size, validation_data=(x_test, y_test), verbose=2, callbacks=[early_stopping])"
   ]
  },
  {
   "cell_type": "code",
   "execution_count": 14,
   "id": "3d1e2bcc",
   "metadata": {},
   "outputs": [],
   "source": [
    "def show_train_history(train_history,train,validation,title):\n",
    "    plt.plot(train_history.history[train])\n",
    "    plt.plot(train_history.history[validation])\n",
    "    plt.title('train history')\n",
    "    plt.ylabel(title)\n",
    "    plt.xlabel('epoch')\n",
    "    plt.legend(['train','validation'])\n",
    "    plt.show()"
   ]
  },
  {
   "cell_type": "code",
   "execution_count": 15,
   "id": "7e02c99b",
   "metadata": {},
   "outputs": [
    {
     "data": {
      "image/png": "[encoded data removed]",
      "text/plain": [
       "<Figure size 640x480 with 1 Axes>"
      ]
     },
     "metadata": {},
     "output_type": "display_data"
    }
   ],
   "source": [
    "show_train_history(history,'accuracy','val_accuracy','accuracy')"
   ]
  },
  {
   "cell_type": "code",
   "execution_count": 16,
   "id": "43e79052",
   "metadata": {},
   "outputs": [
    {
     "data": {
      "image/png": "[encoded data removed]",
      "text/plain": [
       "<Figure size 640x480 with 1 Axes>"
      ]
     },
     "metadata": {},
     "output_type": "display_data"
    }
   ],
   "source": [
    "show_train_history(history,'loss','val_loss','loss')"
   ]
  },
  {
   "cell_type": "code",
   "execution_count": 17,
   "id": "62fd2873",
   "metadata": {},
   "outputs": [
    {
     "name": "stdout",
     "output_type": "stream",
     "text": [
      "26/26 [==============================] - 1s 26ms/step - loss: 0.3032 - accuracy: 0.8788\n"
     ]
    },
    {
     "data": {
      "text/plain": [
       "[0.30323347449302673, 0.8787878751754761]"
      ]
     },
     "execution_count": 17,
     "metadata": {},
     "output_type": "execute_result"
    }
   ],
   "source": [
    "model.evaluate(x_test,y_test)"
   ]
  },
  {
   "cell_type": "code",
   "execution_count": 18,
   "id": "ae1f8133",
   "metadata": {},
   "outputs": [
    {
     "data": {
      "text/html": [
       "<div>\n",
       "<style scoped>\n",
       "    .dataframe tbody tr th:only-of-type {\n",
       "        vertical-align: middle;\n",
       "    }\n",
       "\n",
       "    .dataframe tbody tr th {\n",
       "        vertical-align: top;\n",
       "    }\n",
       "\n",
       "    .dataframe thead th {\n",
       "        text-align: right;\n",
       "    }\n",
       "</style>\n",
       "<table border=\"1\" class=\"dataframe\">\n",
       "  <thead>\n",
       "    <tr style=\"text-align: right;\">\n",
       "      <th></th>\n",
       "      <th>test_texts</th>\n",
       "      <th>assign_sentiment</th>\n",
       "    </tr>\n",
       "  </thead>\n",
       "  <tbody>\n",
       "    <tr>\n",
       "      <th>0</th>\n",
       "      <td>這家公司最近業績提升，股價上漲</td>\n",
       "      <td>positive</td>\n",
       "    </tr>\n",
       "    <tr>\n",
       "      <th>1</th>\n",
       "      <td>經濟衰退導致市場低迷，投資者損失慘重</td>\n",
       "      <td>negative</td>\n",
       "    </tr>\n",
       "    <tr>\n",
       "      <th>2</th>\n",
       "      <td>市場份額增加，銷售創新高</td>\n",
       "      <td>positive</td>\n",
       "    </tr>\n",
       "    <tr>\n",
       "      <th>3</th>\n",
       "      <td>公司破產重組，裁員大幅增加</td>\n",
       "      <td>negative</td>\n",
       "    </tr>\n",
       "    <tr>\n",
       "      <th>4</th>\n",
       "      <td>新的投資計劃將帶來更多收益</td>\n",
       "      <td>positive</td>\n",
       "    </tr>\n",
       "    <tr>\n",
       "      <th>5</th>\n",
       "      <td>市場需求減少，營收下降</td>\n",
       "      <td>negative</td>\n",
       "    </tr>\n",
       "    <tr>\n",
       "      <th>6</th>\n",
       "      <td>創新技術提高了生產效率</td>\n",
       "      <td>positive</td>\n",
       "    </tr>\n",
       "    <tr>\n",
       "      <th>7</th>\n",
       "      <td>由於貿易戰，企業面臨巨大風險</td>\n",
       "      <td>negative</td>\n",
       "    </tr>\n",
       "    <tr>\n",
       "      <th>9</th>\n",
       "      <td>供應鏈問題導致生產停滯</td>\n",
       "      <td>negative</td>\n",
       "    </tr>\n",
       "    <tr>\n",
       "      <th>10</th>\n",
       "      <td>企業獲得政府補貼，財務狀況改善</td>\n",
       "      <td>positive</td>\n",
       "    </tr>\n",
       "    <tr>\n",
       "      <th>11</th>\n",
       "      <td>高失業率影響消費者信心</td>\n",
       "      <td>negative</td>\n",
       "    </tr>\n",
       "    <tr>\n",
       "      <th>13</th>\n",
       "      <td>全球經濟放緩，市場前景不明</td>\n",
       "      <td>negative</td>\n",
       "    </tr>\n",
       "    <tr>\n",
       "      <th>14</th>\n",
       "      <td>公司擴展到新市場，預期收益增長</td>\n",
       "      <td>positive</td>\n",
       "    </tr>\n",
       "    <tr>\n",
       "      <th>15</th>\n",
       "      <td>高通貨膨脹壓力持續存在</td>\n",
       "      <td>negative</td>\n",
       "    </tr>\n",
       "    <tr>\n",
       "      <th>16</th>\n",
       "      <td>企業進行大規模重組，預計減少成本</td>\n",
       "      <td>negative</td>\n",
       "    </tr>\n",
       "    <tr>\n",
       "      <th>17</th>\n",
       "      <td>公司成功收購競爭對手，市場份額上升</td>\n",
       "      <td>positive</td>\n",
       "    </tr>\n",
       "    <tr>\n",
       "      <th>18</th>\n",
       "      <td>債務問題加劇，企業面臨破產風險</td>\n",
       "      <td>negative</td>\n",
       "    </tr>\n",
       "    <tr>\n",
       "      <th>19</th>\n",
       "      <td>營業額增長超出預期，股價飆升</td>\n",
       "      <td>positive</td>\n",
       "    </tr>\n",
       "  </tbody>\n",
       "</table>\n",
       "</div>"
      ],
      "text/plain": [
       "            test_texts assign_sentiment\n",
       "0      這家公司最近業績提升，股價上漲         positive\n",
       "1   經濟衰退導致市場低迷，投資者損失慘重         negative\n",
       "2         市場份額增加，銷售創新高         positive\n",
       "3        公司破產重組，裁員大幅增加         negative\n",
       "4        新的投資計劃將帶來更多收益         positive\n",
       "5          市場需求減少，營收下降         negative\n",
       "6          創新技術提高了生產效率         positive\n",
       "7       由於貿易戰，企業面臨巨大風險         negative\n",
       "9          供應鏈問題導致生產停滯         negative\n",
       "10     企業獲得政府補貼，財務狀況改善         positive\n",
       "11         高失業率影響消費者信心         negative\n",
       "13       全球經濟放緩，市場前景不明         negative\n",
       "14     公司擴展到新市場，預期收益增長         positive\n",
       "15         高通貨膨脹壓力持續存在         negative\n",
       "16    企業進行大規模重組，預計減少成本         negative\n",
       "17   公司成功收購競爭對手，市場份額上升         positive\n",
       "18     債務問題加劇，企業面臨破產風險         negative\n",
       "19      營業額增長超出預期，股價飆升         positive"
      ]
     },
     "execution_count": 18,
     "metadata": {},
     "output_type": "execute_result"
    }
   ],
   "source": [
    "test_texts = [\n",
    "    \"這家公司最近業績提升，股價上漲\",\n",
    "    \"經濟衰退導致市場低迷，投資者損失慘重\",\n",
    "    \"市場份額增加，銷售創新高\",\n",
    "    \"公司破產重組，裁員大幅增加\",\n",
    "    \"新的投資計劃將帶來更多收益\",\n",
    "    \"市場需求減少，營收下降\",\n",
    "    \"創新技術提高了生產效率\",\n",
    "    \"由於貿易戰，企業面臨巨大風險\",\n",
    "    \"公司宣布派發高額股息\",\n",
    "    \"供應鏈問題導致生產停滯\",\n",
    "    \"企業獲得政府補貼，財務狀況改善\",\n",
    "    \"高失業率影響消費者信心\",\n",
    "    \"新產品發布，市場反應熱烈\",\n",
    "    \"全球經濟放緩，市場前景不明\",\n",
    "    \"公司擴展到新市場，預期收益增長\",\n",
    "    \"高通貨膨脹壓力持續存在\",\n",
    "    \"企業進行大規模重組，預計減少成本\",\n",
    "    \"公司成功收購競爭對手，市場份額上升\",\n",
    "    \"債務問題加劇，企業面臨破產風險\",\n",
    "    \"營業額增長超出預期，股價飆升\"\n",
    "]\n",
    "test =pd.DataFrame(test_texts,columns=['test_texts'])\n",
    "test['assign_sentiment']=test.test_texts.apply(classify_sentence)\n",
    "test=test.dropna()\n",
    "test"
   ]
  },
  {
   "cell_type": "code",
   "execution_count": 19,
   "id": "686309c8",
   "metadata": {},
   "outputs": [
    {
     "name": "stdout",
     "output_type": "stream",
     "text": [
      "Found 6899 unique tokens.\n"
     ]
    }
   ],
   "source": [
    "test.test_texts =test.test_texts.apply(remove_stopwords)\n",
    "pred_label2= label_encoder.fit_transform(test['assign_sentiment'])\n",
    "pred_label2 = to_categorical(np.asarray(pred_label2))\n",
    "tokenizer.fit_on_texts(test.test_texts)\n",
    "sequences2 = tokenizer.texts_to_sequences(test.test_texts)\n",
    "word_index = tokenizer.word_index\n",
    "print('Found %s unique tokens.' % len(word_index))\n",
    "max_sequence_length = 50\n",
    "data2 = pad_sequences(sequences2, maxlen=max_sequence_length)"
   ]
  },
  {
   "cell_type": "code",
   "execution_count": 20,
   "id": "791f6e15",
   "metadata": {},
   "outputs": [
    {
     "name": "stdout",
     "output_type": "stream",
     "text": [
      "              precision    recall  f1-score   support\n",
      "\n",
      "           0       0.70      0.70      0.70        10\n",
      "           1       0.62      0.62      0.62         8\n",
      "\n",
      "    accuracy                           0.67        18\n",
      "   macro avg       0.66      0.66      0.66        18\n",
      "weighted avg       0.67      0.67      0.67        18\n",
      "\n"
     ]
    }
   ],
   "source": [
    "pred=model.predict(data2)\n",
    "y_pred_class = np.argmax(np.array(pred), axis=1)\n",
    "y_pred_label = np.argmax(np.array(pred_label2), axis=1)\n",
    "from sklearn.metrics import classification_report\n",
    "print(classification_report(y_pred_label,y_pred_class))"
   ]
  },
  {
   "cell_type": "code",
   "execution_count": null,
   "id": "386490d1",
   "metadata": {},
   "outputs": [],
   "source": []
  }
 ],
 "metadata": {
  "kernelspec": {
   "display_name": "Python [conda env:tf_2.6_py_3.9]",
   "language": "python",
   "name": "tf_2.6_py_3.9"
  },
  "language_info": {
   "codemirror_mode": {
    "name": "ipython",
    "version": 3
   },
   "file_extension": ".py",
   "mimetype": "text/x-python",
   "name": "python",
   "nbconvert_exporter": "python",
   "pygments_lexer": "ipython3",
   "version": "3.9.19"
  }
 },
 "nbformat": 4,
 "nbformat_minor": 5
}
